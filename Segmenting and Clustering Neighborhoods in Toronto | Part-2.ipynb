{
  "nbformat": 4,
  "nbformat_minor": 0,
  "metadata": {
    "colab": {
      "name": "Untitled2.ipynb",
      "provenance": []
    },
    "kernelspec": {
      "name": "python3",
      "display_name": "Python 3"
    }
  },
  "cells": [
    {
      "cell_type": "markdown",
      "metadata": {
        "id": "kMo-XxnbZ8Eu"
      },
      "source": [
        "# Segmenting and Clustering Neighborhoods in Toronto | Part-2\n"
      ]
    },
    {
      "cell_type": "code",
      "metadata": {
        "id": "L3_JsMJHx8de",
        "outputId": "b11a3bda-9eb4-47f3-c432-0d5a83dd1a7a",
        "colab": {
          "base_uri": "https://localhost:8080/",
          "height": 309
        }
      },
      "source": [
        "!pip install geocoder"
      ],
      "execution_count": 18,
      "outputs": [
        {
          "output_type": "stream",
          "text": [
            "Collecting geocoder\n",
            "\u001b[?25l  Downloading https://files.pythonhosted.org/packages/4f/6b/13166c909ad2f2d76b929a4227c952630ebaf0d729f6317eb09cbceccbab/geocoder-1.38.1-py2.py3-none-any.whl (98kB)\n",
            "\r\u001b[K     |███▎                            | 10kB 18.0MB/s eta 0:00:01\r\u001b[K     |██████▋                         | 20kB 1.8MB/s eta 0:00:01\r\u001b[K     |██████████                      | 30kB 2.2MB/s eta 0:00:01\r\u001b[K     |█████████████▎                  | 40kB 2.5MB/s eta 0:00:01\r\u001b[K     |████████████████▋               | 51kB 2.0MB/s eta 0:00:01\r\u001b[K     |████████████████████            | 61kB 2.3MB/s eta 0:00:01\r\u001b[K     |███████████████████████▎        | 71kB 2.5MB/s eta 0:00:01\r\u001b[K     |██████████████████████████▋     | 81kB 2.8MB/s eta 0:00:01\r\u001b[K     |██████████████████████████████  | 92kB 3.0MB/s eta 0:00:01\r\u001b[K     |████████████████████████████████| 102kB 2.4MB/s \n",
            "\u001b[?25hRequirement already satisfied: requests in /usr/local/lib/python3.6/dist-packages (from geocoder) (2.23.0)\n",
            "Collecting ratelim\n",
            "  Downloading https://files.pythonhosted.org/packages/f2/98/7e6d147fd16a10a5f821db6e25f192265d6ecca3d82957a4fdd592cad49c/ratelim-0.1.6-py2.py3-none-any.whl\n",
            "Requirement already satisfied: future in /usr/local/lib/python3.6/dist-packages (from geocoder) (0.16.0)\n",
            "Requirement already satisfied: six in /usr/local/lib/python3.6/dist-packages (from geocoder) (1.15.0)\n",
            "Requirement already satisfied: click in /usr/local/lib/python3.6/dist-packages (from geocoder) (7.1.2)\n",
            "Requirement already satisfied: idna<3,>=2.5 in /usr/local/lib/python3.6/dist-packages (from requests->geocoder) (2.10)\n",
            "Requirement already satisfied: chardet<4,>=3.0.2 in /usr/local/lib/python3.6/dist-packages (from requests->geocoder) (3.0.4)\n",
            "Requirement already satisfied: urllib3!=1.25.0,!=1.25.1,<1.26,>=1.21.1 in /usr/local/lib/python3.6/dist-packages (from requests->geocoder) (1.24.3)\n",
            "Requirement already satisfied: certifi>=2017.4.17 in /usr/local/lib/python3.6/dist-packages (from requests->geocoder) (2020.6.20)\n",
            "Requirement already satisfied: decorator in /usr/local/lib/python3.6/dist-packages (from ratelim->geocoder) (4.4.2)\n",
            "Installing collected packages: ratelim, geocoder\n",
            "Successfully installed geocoder-1.38.1 ratelim-0.1.6\n"
          ],
          "name": "stdout"
        }
      ]
    },
    {
      "cell_type": "code",
      "metadata": {
        "id": "92WZ5ro6yCmM",
        "outputId": "becdb9c2-1cab-4d76-dee8-ec2db20fb038",
        "colab": {
          "base_uri": "https://localhost:8080/",
          "height": 34
        }
      },
      "source": [
        "import pandas as pd\n",
        "import numpy as np\n",
        "import geocoder\n",
        "print(\"Imported!\")"
      ],
      "execution_count": 19,
      "outputs": [
        {
          "output_type": "stream",
          "text": [
            "Imported!\n"
          ],
          "name": "stdout"
        }
      ]
    },
    {
      "cell_type": "code",
      "metadata": {
        "id": "hjJSjrUcyMUa",
        "outputId": "59c5c0ce-561e-4f19-8ec2-c8a43f21ea46",
        "colab": {
          "base_uri": "https://localhost:8080/",
          "height": 204
        }
      },
      "source": [
        "df = pd.read_csv('toronto.csv')\n",
        "df.head()"
      ],
      "execution_count": 20,
      "outputs": [
        {
          "output_type": "execute_result",
          "data": {
            "text/html": [
              "<div>\n",
              "<style scoped>\n",
              "    .dataframe tbody tr th:only-of-type {\n",
              "        vertical-align: middle;\n",
              "    }\n",
              "\n",
              "    .dataframe tbody tr th {\n",
              "        vertical-align: top;\n",
              "    }\n",
              "\n",
              "    .dataframe thead th {\n",
              "        text-align: right;\n",
              "    }\n",
              "</style>\n",
              "<table border=\"1\" class=\"dataframe\">\n",
              "  <thead>\n",
              "    <tr style=\"text-align: right;\">\n",
              "      <th></th>\n",
              "      <th>Postalcode</th>\n",
              "      <th>Borough</th>\n",
              "      <th>Neighborhood</th>\n",
              "    </tr>\n",
              "  </thead>\n",
              "  <tbody>\n",
              "    <tr>\n",
              "      <th>0</th>\n",
              "      <td>M1A\\n</td>\n",
              "      <td>Not assigned\\n</td>\n",
              "      <td>Not assigned\\n</td>\n",
              "    </tr>\n",
              "    <tr>\n",
              "      <th>1</th>\n",
              "      <td>M1B\\n</td>\n",
              "      <td>Scarborough\\n</td>\n",
              "      <td>Malvern, Rouge</td>\n",
              "    </tr>\n",
              "    <tr>\n",
              "      <th>2</th>\n",
              "      <td>M1C\\n</td>\n",
              "      <td>Scarborough\\n</td>\n",
              "      <td>Rouge Hill, Port Union, Highland Creek</td>\n",
              "    </tr>\n",
              "    <tr>\n",
              "      <th>3</th>\n",
              "      <td>M1E\\n</td>\n",
              "      <td>Scarborough\\n</td>\n",
              "      <td>Guildwood, Morningside, West Hill</td>\n",
              "    </tr>\n",
              "    <tr>\n",
              "      <th>4</th>\n",
              "      <td>M1G\\n</td>\n",
              "      <td>Scarborough\\n</td>\n",
              "      <td>Woburn</td>\n",
              "    </tr>\n",
              "  </tbody>\n",
              "</table>\n",
              "</div>"
            ],
            "text/plain": [
              "  Postalcode         Borough                            Neighborhood\n",
              "0      M1A\\n  Not assigned\\n                          Not assigned\\n\n",
              "1      M1B\\n   Scarborough\\n                          Malvern, Rouge\n",
              "2      M1C\\n   Scarborough\\n  Rouge Hill, Port Union, Highland Creek\n",
              "3      M1E\\n   Scarborough\\n       Guildwood, Morningside, West Hill\n",
              "4      M1G\\n   Scarborough\\n                                  Woburn"
            ]
          },
          "metadata": {
            "tags": []
          },
          "execution_count": 20
        }
      ]
    },
    {
      "cell_type": "code",
      "metadata": {
        "id": "K92T0A-4yPKG",
        "outputId": "a6a60f09-6a05-45f0-de71-6d839e448c27",
        "colab": {
          "base_uri": "https://localhost:8080/",
          "height": 190
        }
      },
      "source": [
        "print(df.shape)\n",
        "df.describe()"
      ],
      "execution_count": 21,
      "outputs": [
        {
          "output_type": "stream",
          "text": [
            "(180, 3)\n"
          ],
          "name": "stdout"
        },
        {
          "output_type": "execute_result",
          "data": {
            "text/html": [
              "<div>\n",
              "<style scoped>\n",
              "    .dataframe tbody tr th:only-of-type {\n",
              "        vertical-align: middle;\n",
              "    }\n",
              "\n",
              "    .dataframe tbody tr th {\n",
              "        vertical-align: top;\n",
              "    }\n",
              "\n",
              "    .dataframe thead th {\n",
              "        text-align: right;\n",
              "    }\n",
              "</style>\n",
              "<table border=\"1\" class=\"dataframe\">\n",
              "  <thead>\n",
              "    <tr style=\"text-align: right;\">\n",
              "      <th></th>\n",
              "      <th>Postalcode</th>\n",
              "      <th>Borough</th>\n",
              "      <th>Neighborhood</th>\n",
              "    </tr>\n",
              "  </thead>\n",
              "  <tbody>\n",
              "    <tr>\n",
              "      <th>count</th>\n",
              "      <td>180</td>\n",
              "      <td>180</td>\n",
              "      <td>180</td>\n",
              "    </tr>\n",
              "    <tr>\n",
              "      <th>unique</th>\n",
              "      <td>180</td>\n",
              "      <td>11</td>\n",
              "      <td>100</td>\n",
              "    </tr>\n",
              "    <tr>\n",
              "      <th>top</th>\n",
              "      <td>M9K\\n</td>\n",
              "      <td>Not assigned\\n</td>\n",
              "      <td>Not assigned\\n</td>\n",
              "    </tr>\n",
              "    <tr>\n",
              "      <th>freq</th>\n",
              "      <td>1</td>\n",
              "      <td>77</td>\n",
              "      <td>77</td>\n",
              "    </tr>\n",
              "  </tbody>\n",
              "</table>\n",
              "</div>"
            ],
            "text/plain": [
              "       Postalcode         Borough    Neighborhood\n",
              "count         180             180             180\n",
              "unique        180              11             100\n",
              "top         M9K\\n  Not assigned\\n  Not assigned\\n\n",
              "freq            1              77              77"
            ]
          },
          "metadata": {
            "tags": []
          },
          "execution_count": 21
        }
      ]
    },
    {
      "cell_type": "code",
      "metadata": {
        "id": "iwLzIv_TyVOL",
        "outputId": "592b1473-bd6e-40c3-b41a-0e517a195a68",
        "colab": {
          "base_uri": "https://localhost:8080/",
          "height": 34
        }
      },
      "source": [
        "def get_latilong(postal_code):\n",
        "    lati_long_coords = None\n",
        "    while(lati_long_coords is None):\n",
        "        g = geocoder.arcgis('{}, Toronto, Ontario'.format(postal_code))\n",
        "        lati_long_coords = g.latlng\n",
        "    return lati_long_coords\n",
        "    \n",
        "get_latilong('M4G')"
      ],
      "execution_count": 22,
      "outputs": [
        {
          "output_type": "execute_result",
          "data": {
            "text/plain": [
              "[43.709020000000066, -79.36348999999996]"
            ]
          },
          "metadata": {
            "tags": []
          },
          "execution_count": 22
        }
      ]
    },
    {
      "cell_type": "code",
      "metadata": {
        "id": "IjaoeS5Iyfrs"
      },
      "source": [
        "# Retrieving Postal Code Co-ordinates\n",
        "postal_codes = df['Postalcode']    \n",
        "coords = [ get_latilong(postal_code) for postal_code in postal_codes.tolist() ]"
      ],
      "execution_count": 23,
      "outputs": []
    },
    {
      "cell_type": "code",
      "metadata": {
        "id": "ghRZvgdqy_EK"
      },
      "source": [
        "# Adding Columns Latitude & Longitude\n",
        "df_coords = pd.DataFrame(coords, columns=['Latitude', 'Longitude'])\n",
        "df['Latitude'] = df_coords['Latitude']\n",
        "df['Longitude'] = df_coords['Longitude']"
      ],
      "execution_count": 24,
      "outputs": []
    },
    {
      "cell_type": "code",
      "metadata": {
        "id": "Ue07Qkg2zIVH",
        "outputId": "48f50529-5ab6-437a-e039-1159000962cf",
        "colab": {
          "base_uri": "https://localhost:8080/",
          "height": 49
        }
      },
      "source": [
        "df[df.Postalcode == 'M5G']"
      ],
      "execution_count": 25,
      "outputs": [
        {
          "output_type": "execute_result",
          "data": {
            "text/html": [
              "<div>\n",
              "<style scoped>\n",
              "    .dataframe tbody tr th:only-of-type {\n",
              "        vertical-align: middle;\n",
              "    }\n",
              "\n",
              "    .dataframe tbody tr th {\n",
              "        vertical-align: top;\n",
              "    }\n",
              "\n",
              "    .dataframe thead th {\n",
              "        text-align: right;\n",
              "    }\n",
              "</style>\n",
              "<table border=\"1\" class=\"dataframe\">\n",
              "  <thead>\n",
              "    <tr style=\"text-align: right;\">\n",
              "      <th></th>\n",
              "      <th>Postalcode</th>\n",
              "      <th>Borough</th>\n",
              "      <th>Neighborhood</th>\n",
              "      <th>Latitude</th>\n",
              "      <th>Longitude</th>\n",
              "    </tr>\n",
              "  </thead>\n",
              "  <tbody>\n",
              "  </tbody>\n",
              "</table>\n",
              "</div>"
            ],
            "text/plain": [
              "Empty DataFrame\n",
              "Columns: [Postalcode, Borough, Neighborhood, Latitude, Longitude]\n",
              "Index: []"
            ]
          },
          "metadata": {
            "tags": []
          },
          "execution_count": 25
        }
      ]
    },
    {
      "cell_type": "code",
      "metadata": {
        "id": "nBdn45YbzTkZ",
        "outputId": "3a82b260-0952-4fbe-ca57-0d2e411c6c26",
        "colab": {
          "base_uri": "https://localhost:8080/",
          "height": 514
        }
      },
      "source": [
        "df.head(15)"
      ],
      "execution_count": 26,
      "outputs": [
        {
          "output_type": "execute_result",
          "data": {
            "text/html": [
              "<div>\n",
              "<style scoped>\n",
              "    .dataframe tbody tr th:only-of-type {\n",
              "        vertical-align: middle;\n",
              "    }\n",
              "\n",
              "    .dataframe tbody tr th {\n",
              "        vertical-align: top;\n",
              "    }\n",
              "\n",
              "    .dataframe thead th {\n",
              "        text-align: right;\n",
              "    }\n",
              "</style>\n",
              "<table border=\"1\" class=\"dataframe\">\n",
              "  <thead>\n",
              "    <tr style=\"text-align: right;\">\n",
              "      <th></th>\n",
              "      <th>Postalcode</th>\n",
              "      <th>Borough</th>\n",
              "      <th>Neighborhood</th>\n",
              "      <th>Latitude</th>\n",
              "      <th>Longitude</th>\n",
              "    </tr>\n",
              "  </thead>\n",
              "  <tbody>\n",
              "    <tr>\n",
              "      <th>0</th>\n",
              "      <td>M1A\\n</td>\n",
              "      <td>Not assigned\\n</td>\n",
              "      <td>Not assigned\\n</td>\n",
              "      <td>43.64869</td>\n",
              "      <td>-79.38544</td>\n",
              "    </tr>\n",
              "    <tr>\n",
              "      <th>1</th>\n",
              "      <td>M1B\\n</td>\n",
              "      <td>Scarborough\\n</td>\n",
              "      <td>Malvern, Rouge</td>\n",
              "      <td>43.81139</td>\n",
              "      <td>-79.19662</td>\n",
              "    </tr>\n",
              "    <tr>\n",
              "      <th>2</th>\n",
              "      <td>M1C\\n</td>\n",
              "      <td>Scarborough\\n</td>\n",
              "      <td>Rouge Hill, Port Union, Highland Creek</td>\n",
              "      <td>43.78574</td>\n",
              "      <td>-79.15875</td>\n",
              "    </tr>\n",
              "    <tr>\n",
              "      <th>3</th>\n",
              "      <td>M1E\\n</td>\n",
              "      <td>Scarborough\\n</td>\n",
              "      <td>Guildwood, Morningside, West Hill</td>\n",
              "      <td>43.76575</td>\n",
              "      <td>-79.17470</td>\n",
              "    </tr>\n",
              "    <tr>\n",
              "      <th>4</th>\n",
              "      <td>M1G\\n</td>\n",
              "      <td>Scarborough\\n</td>\n",
              "      <td>Woburn</td>\n",
              "      <td>43.76812</td>\n",
              "      <td>-79.21761</td>\n",
              "    </tr>\n",
              "    <tr>\n",
              "      <th>5</th>\n",
              "      <td>M1H\\n</td>\n",
              "      <td>Scarborough\\n</td>\n",
              "      <td>Cedarbrae</td>\n",
              "      <td>43.76944</td>\n",
              "      <td>-79.23892</td>\n",
              "    </tr>\n",
              "    <tr>\n",
              "      <th>6</th>\n",
              "      <td>M1J\\n</td>\n",
              "      <td>Scarborough\\n</td>\n",
              "      <td>Scarborough Village</td>\n",
              "      <td>43.74446</td>\n",
              "      <td>-79.23117</td>\n",
              "    </tr>\n",
              "    <tr>\n",
              "      <th>7</th>\n",
              "      <td>M1K\\n</td>\n",
              "      <td>Scarborough\\n</td>\n",
              "      <td>Kennedy Park, Ionview, East Birchmount Park</td>\n",
              "      <td>43.72582</td>\n",
              "      <td>-79.26461</td>\n",
              "    </tr>\n",
              "    <tr>\n",
              "      <th>8</th>\n",
              "      <td>M1L\\n</td>\n",
              "      <td>Scarborough\\n</td>\n",
              "      <td>Golden Mile, Clairlea, Oakridge</td>\n",
              "      <td>43.71289</td>\n",
              "      <td>-79.28506</td>\n",
              "    </tr>\n",
              "    <tr>\n",
              "      <th>9</th>\n",
              "      <td>M1M\\n</td>\n",
              "      <td>Scarborough\\n</td>\n",
              "      <td>Cliffside, Cliffcrest, Scarborough Village West</td>\n",
              "      <td>43.72360</td>\n",
              "      <td>-79.23496</td>\n",
              "    </tr>\n",
              "    <tr>\n",
              "      <th>10</th>\n",
              "      <td>M1N\\n</td>\n",
              "      <td>Scarborough\\n</td>\n",
              "      <td>Birch Cliff, Cliffside West</td>\n",
              "      <td>43.69510</td>\n",
              "      <td>-79.26466</td>\n",
              "    </tr>\n",
              "    <tr>\n",
              "      <th>11</th>\n",
              "      <td>M1P\\n</td>\n",
              "      <td>Scarborough\\n</td>\n",
              "      <td>Dorset Park, Wexford Heights, Scarborough Town...</td>\n",
              "      <td>43.75998</td>\n",
              "      <td>-79.26940</td>\n",
              "    </tr>\n",
              "    <tr>\n",
              "      <th>12</th>\n",
              "      <td>M1R\\n</td>\n",
              "      <td>Scarborough\\n</td>\n",
              "      <td>Wexford, Maryvale</td>\n",
              "      <td>43.75075</td>\n",
              "      <td>-79.30054</td>\n",
              "    </tr>\n",
              "    <tr>\n",
              "      <th>13</th>\n",
              "      <td>M1S\\n</td>\n",
              "      <td>Scarborough\\n</td>\n",
              "      <td>Agincourt</td>\n",
              "      <td>43.79452</td>\n",
              "      <td>-79.26708</td>\n",
              "    </tr>\n",
              "    <tr>\n",
              "      <th>14</th>\n",
              "      <td>M1T\\n</td>\n",
              "      <td>Scarborough\\n</td>\n",
              "      <td>Clarks Corners, Tam O'Shanter, Sullivan</td>\n",
              "      <td>43.78491</td>\n",
              "      <td>-79.29722</td>\n",
              "    </tr>\n",
              "  </tbody>\n",
              "</table>\n",
              "</div>"
            ],
            "text/plain": [
              "   Postalcode         Borough  ...  Latitude  Longitude\n",
              "0       M1A\\n  Not assigned\\n  ...  43.64869  -79.38544\n",
              "1       M1B\\n   Scarborough\\n  ...  43.81139  -79.19662\n",
              "2       M1C\\n   Scarborough\\n  ...  43.78574  -79.15875\n",
              "3       M1E\\n   Scarborough\\n  ...  43.76575  -79.17470\n",
              "4       M1G\\n   Scarborough\\n  ...  43.76812  -79.21761\n",
              "5       M1H\\n   Scarborough\\n  ...  43.76944  -79.23892\n",
              "6       M1J\\n   Scarborough\\n  ...  43.74446  -79.23117\n",
              "7       M1K\\n   Scarborough\\n  ...  43.72582  -79.26461\n",
              "8       M1L\\n   Scarborough\\n  ...  43.71289  -79.28506\n",
              "9       M1M\\n   Scarborough\\n  ...  43.72360  -79.23496\n",
              "10      M1N\\n   Scarborough\\n  ...  43.69510  -79.26466\n",
              "11      M1P\\n   Scarborough\\n  ...  43.75998  -79.26940\n",
              "12      M1R\\n   Scarborough\\n  ...  43.75075  -79.30054\n",
              "13      M1S\\n   Scarborough\\n  ...  43.79452  -79.26708\n",
              "14      M1T\\n   Scarborough\\n  ...  43.78491  -79.29722\n",
              "\n",
              "[15 rows x 5 columns]"
            ]
          },
          "metadata": {
            "tags": []
          },
          "execution_count": 26
        }
      ]
    },
    {
      "cell_type": "code",
      "metadata": {
        "id": "weheA2_ZzW9S"
      },
      "source": [
        "df.to_csv('toronto_part2.csv',index=False)"
      ],
      "execution_count": 27,
      "outputs": []
    },
    {
      "cell_type": "code",
      "metadata": {
        "id": "1OdIhRi5zgyN"
      },
      "source": [
        ""
      ],
      "execution_count": null,
      "outputs": []
    }
  ]
}